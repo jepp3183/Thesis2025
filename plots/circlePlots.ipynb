{
 "cells": [
  {
   "cell_type": "code",
   "execution_count": null,
   "metadata": {
    "vscode": {
     "languageId": "plaintext"
    }
   },
   "outputs": [],
   "source": [
    "import matplotlib.pyplot as plt\n",
    "import numpy as np\n",
    "from matplotlib.patches import Circle\n",
    "from matplotlib.path import Path\n",
    "import matplotlib.patches as patches\n",
    "\n",
    "# Create figure and axis\n",
    "fig, ax = plt.subplots(figsize=(10, 6))\n",
    "\n",
    "# First circle (black)\n",
    "black_circle = Circle((1, 1), radius=0.5, color='black')\n",
    "ax.add_patch(black_circle)\n",
    "\n",
    "# Second circle with split colors\n",
    "# Create a red circle first\n",
    "red_circle = Circle((3, 1), radius=0.5, color='red')\n",
    "ax.add_patch(red_circle)\n",
    "\n",
    "# Create a green half-circle that covers the left half of the red circle\n",
    "# Define the clip path for half circle\n",
    "theta = np.linspace(np.pi/2, -np.pi/2, 100)\n",
    "x = 3 + 0.5 * np.cos(theta)\n",
    "y = 1 + 0.5 * np.sin(theta)\n",
    "vertices = np.column_stack([x, y])\n",
    "vertices = np.vstack([[3, 1], vertices, [3, 1]])  # Add center point to start and end\n",
    "codes = [Path.MOVETO] + [Path.LINETO] * (len(vertices) - 2) + [Path.CLOSEPOLY]\n",
    "path = Path(vertices, codes)\n",
    "green_half = patches.PathPatch(path, facecolor='green', alpha=1)\n",
    "ax.add_patch(green_half)\n",
    "\n",
    "# Set axis limits with some padding\n",
    "ax.set_xlim(0, 4)\n",
    "ax.set_ylim(0, 2)\n",
    "\n",
    "# Add axis titles\n",
    "ax.set_xlabel('Feature 1', fontsize=14)\n",
    "ax.set_ylabel('Feature 2', fontsize=14)\n",
    "\n",
    "# Equal aspect ratio ensures circles look like circles\n",
    "ax.set_aspect('equal')\n",
    "\n",
    "# Remove ticks for a cleaner look\n",
    "ax.set_xticks([])\n",
    "ax.set_yticks([])\n",
    "\n",
    "# Display the plot\n",
    "plt.tight_layout()\n",
    "plt.show()\n",
    "\n",
    "# If you want to save the image\n",
    "# plt.savefig('two_circles_split_colors.png', dpi=300, bbox_inches='tight')"
   ]
  }
 ],
 "metadata": {
  "language_info": {
   "name": "python"
  }
 },
 "nbformat": 4,
 "nbformat_minor": 2
}
