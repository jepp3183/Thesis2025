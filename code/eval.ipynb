{
 "cells": [
  {
   "cell_type": "code",
   "execution_count": 8,
   "metadata": {},
   "outputs": [
    {
     "name": "stdout",
     "output_type": "stream",
     "text": [
      "The autoreload extension is already loaded. To reload it, use:\n",
      "  %reload_ext autoreload\n"
     ]
    }
   ],
   "source": [
    "from sklearn.datasets import make_blobs\n",
    "from sklearn.decomposition import PCA\n",
    "from lib.CF_De.cfde import CF_Descent\n",
    "from lib.eval.eval_metrics import *\n",
    "import numpy as np\n",
    "\n",
    "%load_ext autoreload\n",
    "%autoreload 2 "
   ]
  },
  {
   "cell_type": "markdown",
   "metadata": {},
   "source": [
    "# Evaluation of counterfactuals workspace"
   ]
  },
  {
   "cell_type": "code",
   "execution_count": 2,
   "metadata": {},
   "outputs": [],
   "source": [
    "X, y, centers = make_blobs(centers=4, cluster_std=8, n_features=30, n_samples=1500, return_centers=True)\n",
    "\n",
    "pca = PCA(n_components=2)\n",
    "embed_X = pca.fit_transform(X)"
   ]
  },
  {
   "cell_type": "code",
   "execution_count": 23,
   "metadata": {},
   "outputs": [
    {
     "name": "stdout",
     "output_type": "stream",
     "text": [
      "Amount of changes:  456\n",
      "Number of changed features: 9\n"
     ]
    }
   ],
   "source": [
    "x, cf, h = CF_Descent(X,y,1.0,centers)\n",
    "x = x.reshape(1,-1)\n",
    "cf = cf.reshape(1,-1)"
   ]
  },
  {
   "cell_type": "code",
   "execution_count": 24,
   "metadata": {},
   "outputs": [
    {
     "name": "stdout",
     "output_type": "stream",
     "text": [
      "[[  9.87165513  -0.44166437 -16.37038496   4.83796934  -1.48572428\n",
      "    1.1086732   -3.6415468   18.30165712  -0.17572886   8.61985817\n",
      "   -8.22554656   6.06023649  -5.3574475    3.14002777   9.89889431\n",
      "    3.33550982   5.30921151  -6.55469606   4.67311212   2.73735862\n",
      "    5.01450662   2.77604867  13.13035213   3.91190304  -6.92355096\n",
      "   -6.76417976  -4.39880572   0.60548665 -14.47251017  -6.67078977]] [[  1.01845837   1.68095035 -16.37055647   7.61684854   6.16243073\n",
      "   -2.93152582  -0.7710306   29.02066876  -2.6837664   14.73120711\n",
      "  -13.96846798  10.71055789  -5.38271065  11.67918549   0.98807139\n",
      "   -2.09453054   5.19753024  -7.59817448  -0.87222921   4.17401196\n",
      "   -5.91902534   8.87987266  13.79446409   9.41353492  -0.66027172\n",
      "  -12.90292028   2.09222729  -9.35116214 -22.28324809 -22.27066486]]\n",
      "Similarity: [36.22956705]\n",
      "Plausibility: -1.0208630161575953\n",
      "minimality 0.0\n"
     ]
    }
   ],
   "source": [
    "print(cf, x)\n",
    "print(\"Similarity:\", cf_similarity(x, cf))\n",
    "print(\"Plausibility:\", cf_plausibility(cf, 1.0, X, y)[0])\n",
    "print(\"minimality\", cf_minimality(cf, x))"
   ]
  }
 ],
 "metadata": {
  "kernelspec": {
   "display_name": "Python 3",
   "language": "python",
   "name": "python3"
  },
  "language_info": {
   "codemirror_mode": {
    "name": "ipython",
    "version": 3
   },
   "file_extension": ".py",
   "mimetype": "text/x-python",
   "name": "python",
   "nbconvert_exporter": "python",
   "pygments_lexer": "ipython3",
   "version": "3.12.8"
  }
 },
 "nbformat": 4,
 "nbformat_minor": 2
}
