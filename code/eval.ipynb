{
 "cells": [
  {
   "cell_type": "code",
   "execution_count": 87,
   "metadata": {},
   "outputs": [
    {
     "name": "stdout",
     "output_type": "stream",
     "text": [
      "The autoreload extension is already loaded. To reload it, use:\n",
      "  %reload_ext autoreload\n"
     ]
    }
   ],
   "source": [
    "from sklearn.datasets import make_blobs\n",
    "from sklearn.decomposition import PCA\n",
    "from lib.CF_De.cfde import CF_Descent\n",
    "from lib.eval.eval_metrics import *\n",
    "import numpy as np\n",
    "\n",
    "%load_ext autoreload\n",
    "%autoreload 2 "
   ]
  },
  {
   "cell_type": "markdown",
   "metadata": {},
   "source": [
    "# Evaluation of counterfactuals workspace"
   ]
  },
  {
   "cell_type": "code",
   "execution_count": 88,
   "metadata": {},
   "outputs": [],
   "source": [
    "X, y, centers = make_blobs(centers=4, cluster_std=8, n_features=30, n_samples=1500, return_centers=True)\n",
    "\n",
    "pca = PCA(n_components=2)\n",
    "embed_X = pca.fit_transform(X)"
   ]
  },
  {
   "cell_type": "code",
   "execution_count": 89,
   "metadata": {},
   "outputs": [
    {
     "name": "stdout",
     "output_type": "stream",
     "text": [
      "Generation counterfacutal from cluster: 3.0 , Into cluster: 1.0\n",
      "Features that can be changed count:  19\n",
      "Amount of changes:  5\n",
      "Number of changed features: 4\n"
     ]
    }
   ],
   "source": [
    "x, cf, h = CF_Descent(X,y,1.0,centers)\n",
    "x = x.reshape(1,-1)\n",
    "cf = cf.reshape(1,-1)"
   ]
  },
  {
   "cell_type": "code",
   "execution_count": 90,
   "metadata": {},
   "outputs": [
    {
     "name": "stdout",
     "output_type": "stream",
     "text": [
      "[[  0.94042088   0.81965298   9.27387143  -7.32919948  -3.90662659\n",
      "   -6.26083139  -3.75185989  -4.51047965   7.49143674   5.76359135\n",
      "    8.04136303   6.93941723  -4.53149987   0.42172122   0.47523897\n",
      "    0.43592805  -0.67878613  -1.99029242  -4.9924892    6.22708796\n",
      "    5.6099104   -6.89061792   4.09072642   0.11880314  -1.90508955\n",
      "   -8.90381892  13.90760065  19.12384259 -15.12059265  18.16866951]] [[ -2.72719916   1.93432474   2.28055116  -6.11686081   2.2292259\n",
      "    4.49597779  -3.88457901  -4.51047965  -0.47083754   2.48427494\n",
      "    0.39913453  10.47284242  11.48502971  -0.57755299   0.47523897\n",
      "    0.43592805   0.70457916  -1.99029242  -4.9924892   -0.15482255\n",
      "    7.70267786  -9.80021171   4.09072642  -0.06039532   8.12971212\n",
      "   -8.90381892  13.90760065  19.12384259 -15.12059265  18.16866951]]\n",
      "Similarity: [27.8788623]\n",
      "Plausibility: -1.0241602676373418\n",
      "minimality 0.36666666666666664\n"
     ]
    }
   ],
   "source": [
    "print(cf, x)\n",
    "print(\"Similarity:\", cf_similarity(x, cf))\n",
    "print(\"Plausibility:\", cf_plausibility(cf, 1.0, X, y)[0])\n",
    "print(\"minimality\", cf_minimality(cf, x))"
   ]
  }
 ],
 "metadata": {
  "kernelspec": {
   "display_name": "Python 3",
   "language": "python",
   "name": "python3"
  },
  "language_info": {
   "codemirror_mode": {
    "name": "ipython",
    "version": 3
   },
   "file_extension": ".py",
   "mimetype": "text/x-python",
   "name": "python",
   "nbconvert_exporter": "python",
   "pygments_lexer": "ipython3",
   "version": "3.10.12"
  }
 },
 "nbformat": 4,
 "nbformat_minor": 2
}
