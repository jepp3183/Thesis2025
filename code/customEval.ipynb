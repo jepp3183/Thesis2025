{
 "cells": [
  {
   "cell_type": "code",
   "execution_count": 1,
   "metadata": {},
   "outputs": [],
   "source": [
    "from sklearn.datasets import make_blobs\n",
    "from sklearn.decomposition import PCA\n",
    "from lib.CF_De.cfde import CF_Descent\n",
    "from lib.cf_a.cfae import CF_Ascent\n",
    "from lib.eval.eval_metrics import *\n",
    "import numpy as np\n",
    "import random\n",
    "from lib.eval.tools import center_prediction\n",
    "\n",
    "%load_ext autoreload\n",
    "%autoreload 2 "
   ]
  },
  {
   "cell_type": "markdown",
   "metadata": {},
   "source": [
    "# Evaluation of custom algorithms specifications"
   ]
  },
  {
   "cell_type": "markdown",
   "metadata": {},
   "source": [
    "In this workspace we test what parameters works best for CFDE and CFAE."
   ]
  },
  {
   "cell_type": "code",
   "execution_count": 2,
   "metadata": {},
   "outputs": [],
   "source": [
    "X, y, centers = make_blobs(centers=4, cluster_std=8, n_features=30, n_samples=1500, return_centers=True)\n",
    "\n",
    "pca = PCA(n_components=2)\n",
    "embed_X = pca.fit_transform(X)\n",
    "\n"
   ]
  },
  {
   "cell_type": "markdown",
   "metadata": {},
   "source": [
    "## CFDE"
   ]
  },
  {
   "cell_type": "markdown",
   "metadata": {},
   "source": [
    "## Immutable ratio"
   ]
  },
  {
   "cell_type": "code",
   "execution_count": null,
   "metadata": {},
   "outputs": [
    {
     "name": "stdout",
     "output_type": "stream",
     "text": [
      "Features that can be changed count:  29\n",
      "Amount of changes:  496\n",
      "Number of changed features: 12\n",
      "Features that can be changed count:  29\n",
      "Amount of changes:  537\n",
      "Number of changed features: 12\n",
      "Features that can be changed count:  29\n",
      "Amount of changes:  422\n",
      "Number of changed features: 10\n",
      "Features that can be changed count:  29\n",
      "Amount of changes:  391\n",
      "Number of changed features: 10\n",
      "Features that can be changed count:  29\n",
      "Amount of changes:  478\n",
      "Number of changed features: 11\n",
      "Features that can be changed count:  29\n",
      "Amount of changes:  531\n",
      "Number of changed features: 13\n",
      "Features that can be changed count:  29\n",
      "Amount of changes:  495\n",
      "Number of changed features: 11\n",
      "Features that can be changed count:  29\n",
      "Amount of changes:  501\n",
      "Number of changed features: 12\n",
      "Features that can be changed count:  29\n",
      "Amount of changes:  495\n",
      "Number of changed features: 12\n",
      "Features that can be changed count:  29\n",
      "Amount of changes:  514\n",
      "Number of changed features: 13\n",
      "Features that can be changed count:  28\n",
      "Amount of changes:  233\n",
      "Number of changed features: 9\n",
      "Features that can be changed count:  28\n",
      "Amount of changes:  442\n",
      "Number of changed features: 11\n",
      "Features that can be changed count:  28\n",
      "Amount of changes:  404\n",
      "Number of changed features: 10\n",
      "Features that can be changed count:  28\n",
      "Amount of changes:  420\n",
      "Number of changed features: 11\n",
      "Features that can be changed count:  28\n",
      "Amount of changes:  365\n",
      "Number of changed features: 11\n",
      "Features that can be changed count:  28\n"
     ]
    },
    {
     "ename": "KeyboardInterrupt",
     "evalue": "",
     "output_type": "error",
     "traceback": [
      "\u001b[0;31m---------------------------------------------------------------------------\u001b[0m",
      "\u001b[0;31mKeyboardInterrupt\u001b[0m                         Traceback (most recent call last)",
      "Cell \u001b[0;32mIn[40], line 16\u001b[0m\n\u001b[1;32m     14\u001b[0m metric \u001b[38;5;241m=\u001b[39m \u001b[38;5;241m0\u001b[39m\n\u001b[1;32m     15\u001b[0m \u001b[38;5;28;01mfor\u001b[39;00m i \u001b[38;5;129;01min\u001b[39;00m \u001b[38;5;28mrange\u001b[39m(n):\n\u001b[0;32m---> 16\u001b[0m     x, cf, h \u001b[38;5;241m=\u001b[39m \u001b[43mCF_Descent\u001b[49m\u001b[43m(\u001b[49m\u001b[43mX\u001b[49m\u001b[43m,\u001b[49m\u001b[43my\u001b[49m\u001b[43m,\u001b[49m\u001b[38;5;241;43m1.0\u001b[39;49m\u001b[43m,\u001b[49m\u001b[43mcenters\u001b[49m\u001b[43m,\u001b[49m\u001b[43minstance_index\u001b[49m\u001b[38;5;241;43m=\u001b[39;49m\u001b[43mindex\u001b[49m\u001b[43m,\u001b[49m\u001b[43mnew_immutable_ratio\u001b[49m\u001b[38;5;241;43m=\u001b[39;49m\u001b[43mratio\u001b[49m\u001b[43m)\u001b[49m\n\u001b[1;32m     17\u001b[0m     x \u001b[38;5;241m=\u001b[39m x\u001b[38;5;241m.\u001b[39mreshape(\u001b[38;5;241m1\u001b[39m,\u001b[38;5;241m-\u001b[39m\u001b[38;5;241m1\u001b[39m)\n\u001b[1;32m     18\u001b[0m     cf \u001b[38;5;241m=\u001b[39m cf\u001b[38;5;241m.\u001b[39mreshape(\u001b[38;5;241m1\u001b[39m,\u001b[38;5;241m-\u001b[39m\u001b[38;5;241m1\u001b[39m)\n",
      "File \u001b[0;32m~/spe/thesis-gang/code/lib/CF_De/cfde.py:21\u001b[0m, in \u001b[0;36mCF_Descent\u001b[0;34m(X, y, target, centers, model, instance_index, stop_count, step_size, limit, feature_penalty, dis, immutable_features, new_immutable_ratio)\u001b[0m\n\u001b[1;32m      5\u001b[0m \u001b[38;5;28;01mdef\u001b[39;00m\u001b[38;5;250m \u001b[39m\u001b[38;5;21mCF_Descent\u001b[39m(\n\u001b[1;32m      6\u001b[0m         X,\n\u001b[1;32m      7\u001b[0m         y, \n\u001b[0;32m   (...)\u001b[0m\n\u001b[1;32m     17\u001b[0m         immutable_features \u001b[38;5;241m=\u001b[39m [],\n\u001b[1;32m     18\u001b[0m         new_immutable_ratio \u001b[38;5;241m=\u001b[39m \u001b[38;5;241m0.35\u001b[39m):\n\u001b[1;32m     20\u001b[0m     df \u001b[38;5;241m=\u001b[39m pd\u001b[38;5;241m.\u001b[39mDataFrame(np\u001b[38;5;241m.\u001b[39mcolumn_stack((X, y)), columns\u001b[38;5;241m=\u001b[39m[\u001b[38;5;124mf\u001b[39m\u001b[38;5;124m'\u001b[39m\u001b[38;5;124mx\u001b[39m\u001b[38;5;132;01m{\u001b[39;00mi\u001b[38;5;132;01m}\u001b[39;00m\u001b[38;5;124m'\u001b[39m \u001b[38;5;28;01mfor\u001b[39;00m i \u001b[38;5;129;01min\u001b[39;00m \u001b[38;5;28mrange\u001b[39m(X\u001b[38;5;241m.\u001b[39mshape[\u001b[38;5;241m1\u001b[39m])] \u001b[38;5;241m+\u001b[39m [\u001b[38;5;124m'\u001b[39m\u001b[38;5;124mlabel\u001b[39m\u001b[38;5;124m'\u001b[39m], dtype\u001b[38;5;241m=\u001b[39m\u001b[38;5;28mfloat\u001b[39m)\n\u001b[0;32m---> 21\u001b[0m     \u001b[38;5;28;01mreturn\u001b[39;00m \u001b[43mSimple_CF_Descent\u001b[49m\u001b[43m(\u001b[49m\u001b[43mdf\u001b[49m\u001b[43m,\u001b[49m\u001b[43m \u001b[49m\u001b[43mtarget\u001b[49m\u001b[43m,\u001b[49m\u001b[43m \u001b[49m\u001b[43mcenters\u001b[49m\u001b[43m,\u001b[49m\u001b[43m \u001b[49m\u001b[43mmodel\u001b[49m\u001b[43m,\u001b[49m\u001b[43m \u001b[49m\u001b[43minstance_index\u001b[49m\u001b[43m,\u001b[49m\u001b[43m \u001b[49m\u001b[43mstop_count\u001b[49m\u001b[43m,\u001b[49m\u001b[43m \u001b[49m\u001b[43mstep_size\u001b[49m\u001b[43m,\u001b[49m\u001b[43m \u001b[49m\u001b[43mlimit\u001b[49m\u001b[43m,\u001b[49m\u001b[43m \u001b[49m\u001b[43mfeature_penalty\u001b[49m\u001b[43m,\u001b[49m\u001b[43m \u001b[49m\u001b[43mdis\u001b[49m\u001b[43m,\u001b[49m\u001b[43m \u001b[49m\u001b[43mimmutable_features\u001b[49m\u001b[43m,\u001b[49m\u001b[43m \u001b[49m\u001b[43mnew_immutable_ratio\u001b[49m\u001b[43m)\u001b[49m\n",
      "File \u001b[0;32m~/spe/thesis-gang/code/lib/CF_De/cfde.py:149\u001b[0m, in \u001b[0;36mSimple_CF_Descent\u001b[0;34m(df, target, centers, model, instance_index, stop_count, step_size, limit, feature_penalty, dis, immutable_features, new_immutable_ratio)\u001b[0m\n\u001b[1;32m    147\u001b[0m \u001b[38;5;28;01melse\u001b[39;00m:    \n\u001b[1;32m    148\u001b[0m     \u001b[38;5;28;01mtry\u001b[39;00m:\n\u001b[0;32m--> 149\u001b[0m         prediction \u001b[38;5;241m=\u001b[39m \u001b[43mpredictor\u001b[49m\u001b[43m(\u001b[49m\u001b[43mbest\u001b[49m\u001b[43m)\u001b[49m\n\u001b[1;32m    150\u001b[0m         \u001b[38;5;28;01mif\u001b[39;00m prediction \u001b[38;5;241m!=\u001b[39m target:\n\u001b[1;32m    151\u001b[0m             misses \u001b[38;5;241m+\u001b[39m\u001b[38;5;241m=\u001b[39m \u001b[38;5;241m1\u001b[39m\n",
      "File \u001b[0;32m~/spe/thesis-gang/code/lib/CF_De/cfde.py:51\u001b[0m, in \u001b[0;36mSimple_CF_Descent.<locals>.<lambda>\u001b[0;34m(p)\u001b[0m\n\u001b[1;32m     48\u001b[0m                 current_best_distance \u001b[38;5;241m=\u001b[39m distance\n\u001b[1;32m     49\u001b[0m         \u001b[38;5;28;01mreturn\u001b[39;00m \u001b[38;5;28mfloat\u001b[39m(current_best_center)\n\u001b[0;32m---> 51\u001b[0m     predictor \u001b[38;5;241m=\u001b[39m \u001b[38;5;28;01mlambda\u001b[39;00m p : \u001b[43mcenter_prediction\u001b[49m\u001b[43m(\u001b[49m\u001b[43mp\u001b[49m\u001b[43m)\u001b[49m\n\u001b[1;32m     52\u001b[0m \u001b[38;5;28;01melse\u001b[39;00m:\n\u001b[1;32m     53\u001b[0m     predictor \u001b[38;5;241m=\u001b[39m \u001b[38;5;28;01mlambda\u001b[39;00m p : model\u001b[38;5;241m.\u001b[39mpredict([p])[\u001b[38;5;241m0\u001b[39m]\n",
      "File \u001b[0;32m~/spe/thesis-gang/code/lib/CF_De/cfde.py:45\u001b[0m, in \u001b[0;36mSimple_CF_Descent.<locals>.center_prediction\u001b[0;34m(p)\u001b[0m\n\u001b[1;32m     43\u001b[0m current_best_distance \u001b[38;5;241m=\u001b[39m \u001b[38;5;28mfloat\u001b[39m(\u001b[38;5;124m\"\u001b[39m\u001b[38;5;124minf\u001b[39m\u001b[38;5;124m\"\u001b[39m)\n\u001b[1;32m     44\u001b[0m \u001b[38;5;28;01mfor\u001b[39;00m i \u001b[38;5;129;01min\u001b[39;00m \u001b[38;5;28mrange\u001b[39m(\u001b[38;5;28mlen\u001b[39m(centers)):\n\u001b[0;32m---> 45\u001b[0m     distance \u001b[38;5;241m=\u001b[39m \u001b[43mdis\u001b[49m\u001b[43m(\u001b[49m\u001b[43mp\u001b[49m\u001b[43m,\u001b[49m\u001b[43mcenters\u001b[49m\u001b[43m[\u001b[49m\u001b[43mi\u001b[49m\u001b[43m]\u001b[49m\u001b[43m)\u001b[49m\n\u001b[1;32m     46\u001b[0m     \u001b[38;5;28;01mif\u001b[39;00m distance \u001b[38;5;241m<\u001b[39m current_best_distance:\n\u001b[1;32m     47\u001b[0m         current_best_center \u001b[38;5;241m=\u001b[39m i\n",
      "File \u001b[0;32m~/spe/thesis-gang/code/lib/CF_De/cfde.py:16\u001b[0m, in \u001b[0;36m<lambda>\u001b[0;34m(a, b)\u001b[0m\n\u001b[1;32m      2\u001b[0m \u001b[38;5;28;01mimport\u001b[39;00m\u001b[38;5;250m \u001b[39m\u001b[38;5;21;01mrandom\u001b[39;00m\n\u001b[1;32m      3\u001b[0m \u001b[38;5;28;01mimport\u001b[39;00m\u001b[38;5;250m \u001b[39m\u001b[38;5;21;01mpandas\u001b[39;00m\u001b[38;5;250m \u001b[39m\u001b[38;5;28;01mas\u001b[39;00m\u001b[38;5;250m \u001b[39m\u001b[38;5;21;01mpd\u001b[39;00m\n\u001b[1;32m      5\u001b[0m \u001b[38;5;28;01mdef\u001b[39;00m\u001b[38;5;250m \u001b[39m\u001b[38;5;21mCF_Descent\u001b[39m(\n\u001b[1;32m      6\u001b[0m         X,\n\u001b[1;32m      7\u001b[0m         y, \n\u001b[1;32m      8\u001b[0m         target, \n\u001b[1;32m      9\u001b[0m         centers, \n\u001b[1;32m     10\u001b[0m         model\u001b[38;5;241m=\u001b[39m\u001b[38;5;28;01mNone\u001b[39;00m, \n\u001b[1;32m     11\u001b[0m         instance_index\u001b[38;5;241m=\u001b[39m\u001b[38;5;241m-\u001b[39m\u001b[38;5;241m1\u001b[39m, \n\u001b[1;32m     12\u001b[0m         stop_count\u001b[38;5;241m=\u001b[39m\u001b[38;5;241m100\u001b[39m, \n\u001b[1;32m     13\u001b[0m         step_size\u001b[38;5;241m=\u001b[39m\u001b[38;5;241m0.05\u001b[39m, \n\u001b[1;32m     14\u001b[0m         limit \u001b[38;5;241m=\u001b[39m \u001b[38;5;241m10000\u001b[39m,\n\u001b[1;32m     15\u001b[0m         feature_penalty \u001b[38;5;241m=\u001b[39m \u001b[38;5;241m1.001\u001b[39m, \n\u001b[0;32m---> 16\u001b[0m         dis \u001b[38;5;241m=\u001b[39m \u001b[38;5;28;01mlambda\u001b[39;00m a,b : euclid_dis(a,b),\n\u001b[1;32m     17\u001b[0m         immutable_features \u001b[38;5;241m=\u001b[39m [],\n\u001b[1;32m     18\u001b[0m         new_immutable_ratio \u001b[38;5;241m=\u001b[39m \u001b[38;5;241m0.35\u001b[39m):\n\u001b[1;32m     20\u001b[0m     df \u001b[38;5;241m=\u001b[39m pd\u001b[38;5;241m.\u001b[39mDataFrame(np\u001b[38;5;241m.\u001b[39mcolumn_stack((X, y)), columns\u001b[38;5;241m=\u001b[39m[\u001b[38;5;124mf\u001b[39m\u001b[38;5;124m'\u001b[39m\u001b[38;5;124mx\u001b[39m\u001b[38;5;132;01m{\u001b[39;00mi\u001b[38;5;132;01m}\u001b[39;00m\u001b[38;5;124m'\u001b[39m \u001b[38;5;28;01mfor\u001b[39;00m i \u001b[38;5;129;01min\u001b[39;00m \u001b[38;5;28mrange\u001b[39m(X\u001b[38;5;241m.\u001b[39mshape[\u001b[38;5;241m1\u001b[39m])] \u001b[38;5;241m+\u001b[39m [\u001b[38;5;124m'\u001b[39m\u001b[38;5;124mlabel\u001b[39m\u001b[38;5;124m'\u001b[39m], dtype\u001b[38;5;241m=\u001b[39m\u001b[38;5;28mfloat\u001b[39m)\n\u001b[1;32m     21\u001b[0m     \u001b[38;5;28;01mreturn\u001b[39;00m Simple_CF_Descent(df, target, centers, model, instance_index, stop_count, step_size, limit, feature_penalty, dis, immutable_features, new_immutable_ratio)\n",
      "\u001b[0;31mKeyboardInterrupt\u001b[0m: "
     ]
    }
   ],
   "source": [
    "values = np.linspace(0.0,1.0,num=31)\n",
    "\n",
    "n = 10\n",
    "target = 1.0\n",
    "pred = 1.0\n",
    "while pred == target:\n",
    "    index = random.randint(0,len(X))\n",
    "    new_instance = X[index]\n",
    "    pred = y[index]\n",
    "\n",
    "best = -1\n",
    "best_metric = -float('inf')\n",
    "for ratio in values:\n",
    "    metric = 0\n",
    "    for i in range(n):\n",
    "        x, cf, h = CF_Descent(X,y,1.0,centers,instance_index=index,new_immutable_ratio=ratio)\n",
    "        x = x.reshape(1,-1)\n",
    "        cf = cf.reshape(1,-1)\n",
    "\n",
    "        metric += cf_similarity(x, cf)[0] * cf_minimality(cf, x) * cf_plausibility(cf, target, X, y)[0]\n",
    "    metric = metric / n\n",
    "    if metric > best_metric:\n",
    "        best_metric = metric\n",
    "        best = ratio\n",
    "\n",
    "print(\"Best immutable ratio is:\", best)"
   ]
  },
  {
   "cell_type": "markdown",
   "metadata": {},
   "source": [
    "## CFAE"
   ]
  },
  {
   "cell_type": "markdown",
   "metadata": {},
   "source": [
    "## CFDE vs CFAE"
   ]
  },
  {
   "cell_type": "code",
   "execution_count": 34,
   "metadata": {},
   "outputs": [
    {
     "name": "stdout",
     "output_type": "stream",
     "text": [
      "Similairty:\n",
      "cfde score: 0.6\n",
      "cfae score: 0.4\n",
      " \n",
      "Minimality:\n",
      "cfde score: 0.0\n",
      "cfae score: 1.0\n",
      " \n",
      "Plausiblity:\n",
      "cfde score: 0.0\n",
      "cfae score: 1.0\n",
      " \n"
     ]
    }
   ],
   "source": [
    "it = 10\n",
    "n = 10\n",
    "target = 1.0\n",
    "\n",
    "count_sim_de = 0\n",
    "count_sim_ae = 0\n",
    "\n",
    "count_min_de = 0\n",
    "count_min_ae = 0\n",
    "\n",
    "count_plaus_de = 0\n",
    "count_plaus_ae = 0\n",
    "\n",
    "for _ in range(it):\n",
    "    pred = 1.0\n",
    "    while pred == target:\n",
    "        index = random.randint(0,len(X))\n",
    "        new_instance = X[index]\n",
    "        pred = y[index]\n",
    "\n",
    "    metric_sim = [0,0]\n",
    "    metric_min = [0,0]\n",
    "    metric_plaus = [0,0]\n",
    "    for i in range(n):\n",
    "        x1, cf1, h1 = CF_Descent(X=X,y=y,target=1.0,centers=centers,instance_index=index)\n",
    "        x2, cf2, h2 = CF_Ascent(X=X,y=y,target=1.0,centers=centers,instance_index=index)\n",
    "\n",
    "        metric_sim[0] += cf_similarity(np.array([x1]), np.array([cf1]))[0]\n",
    "        metric_sim[1] += cf_similarity(np.array([x2]), np.array([cf2]))[0]\n",
    "\n",
    "        metric_min[0] += cf_minimality(np.array([cf1]), (np.array([x1])))\n",
    "        metric_min[1] += cf_minimality(np.array([cf2]), (np.array([x2])))\n",
    "\n",
    "        metric_plaus[0] += cf_plausibility(np.array([cf1]), 1.0, X, y)\n",
    "        metric_plaus[1] += cf_plausibility(np.array([cf2]), 1.0, X, y)\n",
    "\n",
    "\n",
    "    metric_sim_de = metric_sim[0] / n\n",
    "    metric_sim_ae = metric_sim[1] / n\n",
    "    if metric_sim_de < metric_sim_ae:\n",
    "        count_sim_de += 1\n",
    "    else:\n",
    "        count_sim_ae += 1\n",
    "\n",
    "    metric_min_de = metric_min[0] / n\n",
    "    metric_min_ae = metric_min[1] / n\n",
    "    if metric_min_de > metric_min_ae:\n",
    "        count_min_de += 1\n",
    "    else:\n",
    "        count_min_ae += 1\n",
    "\n",
    "    metric_plaus_de = metric_plaus[0] / n\n",
    "    metric_plaus_ae = metric_plaus[1] / n\n",
    "    if metric_plaus_de > metric_plaus_ae:\n",
    "        count_plaus_de += 1\n",
    "    else:\n",
    "        count_plaus_ae += 1\n",
    "\n",
    "print(\"Similairty:\")\n",
    "print(\"cfde score:\", count_sim_de/it)\n",
    "print(\"cfae score:\", count_sim_ae/it)\n",
    "print(\" \")\n",
    "\n",
    "print(\"Minimality:\")\n",
    "print(\"cfde score:\", count_min_de/it)\n",
    "print(\"cfae score:\", count_min_ae/it)\n",
    "print(\" \")\n",
    "\n",
    "print(\"Plausiblity:\")\n",
    "print(\"cfde score:\", count_plaus_de/it)\n",
    "print(\"cfae score:\", count_plaus_ae/it)\n",
    "print(\" \")"
   ]
  },
  {
   "cell_type": "code",
   "execution_count": null,
   "metadata": {},
   "outputs": [],
   "source": []
  }
 ],
 "metadata": {
  "kernelspec": {
   "display_name": "Python 3",
   "language": "python",
   "name": "python3"
  },
  "language_info": {
   "codemirror_mode": {
    "name": "ipython",
    "version": 3
   },
   "file_extension": ".py",
   "mimetype": "text/x-python",
   "name": "python",
   "nbconvert_exporter": "python",
   "pygments_lexer": "ipython3",
   "version": "3.10.12"
  }
 },
 "nbformat": 4,
 "nbformat_minor": 2
}
