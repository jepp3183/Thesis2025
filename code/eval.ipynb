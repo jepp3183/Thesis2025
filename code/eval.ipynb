{
 "cells": [
  {
   "cell_type": "code",
   "execution_count": 275,
   "metadata": {},
   "outputs": [
    {
     "name": "stdout",
     "output_type": "stream",
     "text": [
      "The autoreload extension is already loaded. To reload it, use:\n",
      "  %reload_ext autoreload\n"
     ]
    }
   ],
   "source": [
    "from sklearn.datasets import make_blobs\n",
    "from sklearn.decomposition import PCA\n",
    "from lib.CF_De.cfde import CF_Descent\n",
    "from lib.eval.eval_metrics import *\n",
    "import numpy as np\n",
    "\n",
    "%load_ext autoreload\n",
    "%autoreload 2 "
   ]
  },
  {
   "cell_type": "markdown",
   "metadata": {},
   "source": [
    "# Evaluation of counterfactuals workspace"
   ]
  },
  {
   "cell_type": "code",
   "execution_count": 276,
   "metadata": {},
   "outputs": [],
   "source": [
    "X, y, centers = make_blobs(centers=4, cluster_std=8, n_features=30, n_samples=1500, return_centers=True)\n",
    "\n",
    "pca = PCA(n_components=2)\n",
    "embed_X = pca.fit_transform(X)"
   ]
  },
  {
   "cell_type": "code",
   "execution_count": 277,
   "metadata": {},
   "outputs": [
    {
     "name": "stdout",
     "output_type": "stream",
     "text": [
      "Amount of changes:  331\n",
      "Number of changed features: 7\n"
     ]
    }
   ],
   "source": [
    "x, cf, h = CF_Descent(X,y,1.0,centers)"
   ]
  },
  {
   "cell_type": "code",
   "execution_count": 284,
   "metadata": {},
   "outputs": [
    {
     "name": "stdout",
     "output_type": "stream",
     "text": [
      "Similarity: 59.29567444767879\n",
      "Plausibility: -0.9888371957235604\n",
      "[-8.12512503  4.57424655 -4.33338642 -9.39388579 -2.22420621 -6.14529778\n",
      " -5.00359045 -3.72888839  0.12762293  9.29351114  7.16767328 -5.62042306\n",
      " -8.66545545 -6.70880392 -0.1410865  -8.30166495  0.36284827 -0.83911387\n",
      " 11.33614146 -0.52651073 -0.80701105  5.47375568 -1.16992018  9.11413197\n",
      " -4.20179488  0.66714772 -1.2517091   4.53923652  5.18360312  7.87060917] [-12.96950362  11.23360512 -12.83429109  -9.50439616  -5.96505166\n",
      " -21.4695247   13.52200494 -14.33749638  -1.76354515  17.5540387\n",
      "  14.72171921 -14.76675512  -1.51558042 -14.26463939  15.01866865\n",
      " -13.96574105  -6.07524763  18.33935532  30.35786699  16.00739876\n",
      "   3.72499635  11.0976591    9.75926338  -0.68808292  -3.00568137\n",
      " -19.15638792  -4.2314085    1.56790895  23.77367091   3.53274823]\n",
      "minimality 0.0\n"
     ]
    }
   ],
   "source": [
    "print(\"Similarity:\", cf_similarity(x, cf))\n",
    "print(\"Plausibility:\", cf_plausibility(np.array([cf]), 1.0, X, y)[0])\n",
    "print(cf, x)\n",
    "print(\"minimality\", cf_minimality(cf, x))"
   ]
  }
 ],
 "metadata": {
  "kernelspec": {
   "display_name": "Python 3",
   "language": "python",
   "name": "python3"
  },
  "language_info": {
   "codemirror_mode": {
    "name": "ipython",
    "version": 3
   },
   "file_extension": ".py",
   "mimetype": "text/x-python",
   "name": "python",
   "nbconvert_exporter": "python",
   "pygments_lexer": "ipython3",
   "version": "3.10.12"
  }
 },
 "nbformat": 4,
 "nbformat_minor": 2
}
